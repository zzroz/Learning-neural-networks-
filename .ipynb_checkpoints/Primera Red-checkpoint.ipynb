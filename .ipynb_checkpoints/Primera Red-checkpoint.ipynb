{
 "cells": [
  {
   "cell_type": "markdown",
   "id": "295ac372-5c16-4d27-8e66-93df2094aefa",
   "metadata": {
    "tags": []
   },
   "source": [
    "# Primera Red Neuronal \n",
    "## Interpretar numeros escritos\n",
    "\n",
    "### Paso  1 crear la red y conectarla según las reglas del algebra lineal para redes."
   ]
  },
  {
   "cell_type": "code",
   "execution_count": 2,
   "id": "2da2b595-3e61-40e4-a200-91039ddec5d3",
   "metadata": {},
   "outputs": [],
   "source": [
    "#librerias y mas\n",
    "import numpy as np\n",
    "import random"
   ]
  },
  {
   "cell_type": "code",
   "execution_count": 3,
   "id": "73d2a726-41cb-42f3-bceb-b01bfa7654fb",
   "metadata": {},
   "outputs": [],
   "source": [
    "#Definiendo vectores de entrada\n",
    "entrada=[0,0,0,0,0]\n",
    "en=np.array(entrada)"
   ]
  },
  {
   "cell_type": "code",
   "execution_count": 4,
   "id": "0e0de42c-ae64-483d-b48b-15f6c9005863",
   "metadata": {},
   "outputs": [],
   "source": [
    "#definiendo la función de activación\n",
    "def funact(x):\n",
    "    \n",
    "    sigma=1/(1+np.exp(-x))\n",
    "    return(sigma)\n"
   ]
  },
  {
   "cell_type": "code",
   "execution_count": 6,
   "id": "f8c8ca3c-16e0-44a8-bdff-6066f7f78970",
   "metadata": {},
   "outputs": [],
   "source": [
    "#intentando definir para todas las neuronas en la primera capa\n",
    "#creando la matriz de pesos iniciales\n",
    "w12=[]\n",
    "for i in range(5):#el 5 cambia por el número de entradas al inicio seteado en 5\n",
    "    w1=[]\n",
    "    w12.extend([w1])#con esto se crean los espacios del vector \n",
    "    for i in range(10): #10 neuronas en la capa 1  \n",
    "        w1.extend([random.random()])\n",
    "W12=np.array(w12) #creando la matriz numérica\n",
    "#print(W12) #para verificar\n"
   ]
  },
  {
   "cell_type": "code",
   "execution_count": 7,
   "id": "ea84698a-35af-45a3-ae4c-7550fd42ea61",
   "metadata": {},
   "outputs": [],
   "source": [
    "#vector de activación de la primera capa\n",
    "bias=[0,0,0,0,0,0,0,0,0,0]#vector de bias \n",
    "b=np.array(bias)\n",
    "z=np.dot(en,W12)+b #argumento de la función de activación\n",
    "\n",
    "ac1=funact(z) #vector de activaciones de la capa 1\n",
    "#print(ac1) "
   ]
  },
  {
   "cell_type": "code",
   "execution_count": 8,
   "id": "7ae77b37-d7ee-4de6-97ef-065c62754a91",
   "metadata": {},
   "outputs": [],
   "source": [
    "#creando la capa final\n",
    "w23=[]\n",
    "for i in range(10):#el 10 cambia por el número de neuronas en la capa 1\n",
    "    w2=[]\n",
    "    w23.extend([w2])#con esto se crean los espacios del vector \n",
    "    for i in range(2): #2 salidas  \n",
    "        w2.extend([random.random()])\n",
    "W23=np.array(w23) #creando la matriz numérica\n",
    "#print(W23) para verificar"
   ]
  },
  {
   "cell_type": "code",
   "execution_count": 9,
   "id": "aa64b200-e7e8-469a-9a3c-59a3a355eb22",
   "metadata": {},
   "outputs": [
    {
     "name": "stdout",
     "output_type": "stream",
     "text": [
      "[0.93325525 0.95132313]\n"
     ]
    }
   ],
   "source": [
    "#vector de salidas\n",
    "bias2=[0,0]#vector de bias de los outputs cambia también\n",
    "b2=np.array(bias2)\n",
    "z=np.dot(ac1,W23)+b2 #argumento de la función de activación\n",
    "\n",
    "sal=funact(z) #vector de activaciones de la capa 1\n",
    "print(sal)"
   ]
  },
  {
   "cell_type": "code",
   "execution_count": null,
   "id": "1eff032f-d4b5-40a7-aaf0-c9fb18ba249b",
   "metadata": {},
   "outputs": [],
   "source": [
    "#queda hasta aqui, se pudo crear entradas una capa y salidas y relacionarlas según el modelo."
   ]
  }
 ],
 "metadata": {
  "kernelspec": {
   "display_name": "Python 3 (ipykernel)",
   "language": "python",
   "name": "python3"
  },
  "language_info": {
   "codemirror_mode": {
    "name": "ipython",
    "version": 3
   },
   "file_extension": ".py",
   "mimetype": "text/x-python",
   "name": "python",
   "nbconvert_exporter": "python",
   "pygments_lexer": "ipython3",
   "version": "3.9.7"
  }
 },
 "nbformat": 4,
 "nbformat_minor": 5
}
