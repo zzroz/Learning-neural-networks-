{
 "cells": [
  {
   "cell_type": "markdown",
   "id": "295ac372-5c16-4d27-8e66-93df2094aefa",
   "metadata": {
    "tags": []
   },
   "source": [
    "# Primera Red Neuronal \n",
    "## Interpretar numeros escritos"
   ]
  },
  {
   "cell_type": "code",
   "execution_count": 20,
   "id": "2da2b595-3e61-40e4-a200-91039ddec5d3",
   "metadata": {},
   "outputs": [],
   "source": [
    "#librerias y mas\n",
    "import numpy as np\n",
    "import random"
   ]
  },
  {
   "cell_type": "code",
   "execution_count": 108,
   "id": "73d2a726-41cb-42f3-bceb-b01bfa7654fb",
   "metadata": {},
   "outputs": [],
   "source": [
    "#Definiendo vectores de entrada\n",
    "entrada=[0,0,0,0,0]\n",
    "en=np.array(entrada)"
   ]
  },
  {
   "cell_type": "code",
   "execution_count": 109,
   "id": "0e0de42c-ae64-483d-b48b-15f6c9005863",
   "metadata": {},
   "outputs": [],
   "source": [
    "#definiendo la función de activación\n",
    "def funact(x):\n",
    "    \n",
    "    sigma=1/(1+np.exp(-x))\n",
    "    return(sigma)\n"
   ]
  },
  {
   "cell_type": "code",
   "execution_count": 127,
   "id": "f8c8ca3c-16e0-44a8-bdff-6066f7f78970",
   "metadata": {},
   "outputs": [
    {
     "name": "stdout",
     "output_type": "stream",
     "text": [
      "[[0.17006095 0.96055759 0.64416895 0.14011288 0.26447857 0.21884303\n",
      "  0.82601921 0.13395732 0.26457762 0.50732442]\n",
      " [0.89192909 0.35920446 0.27835205 0.18985278 0.61623383 0.31489317\n",
      "  0.89982415 0.56599385 0.56072376 0.55947782]\n",
      " [0.97025346 0.17095428 0.21569331 0.36680471 0.80832095 0.82904548\n",
      "  0.50541416 0.86344513 0.62690618 0.63102087]\n",
      " [0.8013824  0.67647409 0.52232822 0.05922713 0.44600257 0.71443222\n",
      "  0.74519321 0.51342452 0.80927665 0.78573047]\n",
      " [0.90923741 0.0087226  0.71218977 0.54048118 0.32453853 0.47755521\n",
      "  0.63237839 0.68689799 0.63185329 0.52854695]]\n"
     ]
    }
   ],
   "source": [
    "#intentando definir para todas las neuronas en la primera capa\n",
    "#creando la matriz de pesos iniciales\n",
    "w12=[]\n",
    "for i in range(5):#el 5 cambia por el número de entradas al inicio seteado en 5\n",
    "    w1=[]\n",
    "    w12.extend([w1])#con esto se crean los espacios del vector \n",
    "    for i in range(10): #10 neuronas en la capa 1  \n",
    "        w1.extend([random.random()])\n",
    "W12=np.array(wjk) #creando la matriz numérica\n",
    "print(W12) #para verificar\n"
   ]
  },
  {
   "cell_type": "code",
   "execution_count": 135,
   "id": "ea84698a-35af-45a3-ae4c-7550fd42ea61",
   "metadata": {},
   "outputs": [
    {
     "name": "stdout",
     "output_type": "stream",
     "text": [
      "[0.5 0.5 0.5 0.5 0.5 0.5 0.5 0.5 0.5 0.5]\n"
     ]
    }
   ],
   "source": [
    "#vector de activación de la primera capa\n",
    "bias=[0,0,0,0,0,0,0,0,0,0]#vector de bias \n",
    "b=np.array(bias)\n",
    "z=np.dot(en,W12)+b #argumento de la función de activación\n",
    "\n",
    "ac1=funact(z) #vector de activaciones de la capa 1\n",
    "print(ac1) "
   ]
  },
  {
   "cell_type": "code",
   "execution_count": 129,
   "id": "7ae77b37-d7ee-4de6-97ef-065c62754a91",
   "metadata": {},
   "outputs": [],
   "source": [
    "#creando la capa final\n",
    "w23=[]\n",
    "for i in range(10):#el 10 cambia por el número de neuronas en la capa 1\n",
    "    w2=[]\n",
    "    w23.extend([w2])#con esto se crean los espacios del vector \n",
    "    for i in range(2): #2 salidas  \n",
    "        w2.extend([random.random()])\n",
    "W23=np.array(w23) #creando la matriz numérica\n",
    "#print(W23) para verificar"
   ]
  },
  {
   "cell_type": "code",
   "execution_count": 136,
   "id": "aa64b200-e7e8-469a-9a3c-59a3a355eb22",
   "metadata": {},
   "outputs": [
    {
     "name": "stdout",
     "output_type": "stream",
     "text": [
      "[0.85881452 0.9626535 ]\n"
     ]
    }
   ],
   "source": [
    "#vector de salidas\n",
    "bias2=[0,0]#vector de bias de los outputs cambia también\n",
    "b2=np.array(bias2)\n",
    "z=np.dot(ac1,W23)+b2 #argumento de la función de activación\n",
    "\n",
    "sal=funact(z) #vector de activaciones de la capa 1\n",
    "print(sal)"
   ]
  },
  {
   "cell_type": "code",
   "execution_count": null,
   "id": "1eff032f-d4b5-40a7-aaf0-c9fb18ba249b",
   "metadata": {},
   "outputs": [],
   "source": [
    "#queda hasta aqui, se pudo crear entradas una capa y salidas y relacionarlas según el modelo."
   ]
  }
 ],
 "metadata": {
  "kernelspec": {
   "display_name": "Python 3 (ipykernel)",
   "language": "python",
   "name": "python3"
  },
  "language_info": {
   "codemirror_mode": {
    "name": "ipython",
    "version": 3
   },
   "file_extension": ".py",
   "mimetype": "text/x-python",
   "name": "python",
   "nbconvert_exporter": "python",
   "pygments_lexer": "ipython3",
   "version": "3.9.7"
  }
 },
 "nbformat": 4,
 "nbformat_minor": 5
}
