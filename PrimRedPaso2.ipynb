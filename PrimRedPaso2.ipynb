{
 "cells": [
  {
   "cell_type": "markdown",
   "id": "d3958464-e7e2-4906-8e68-e1861f85ce90",
   "metadata": {},
   "source": [
    "# Primera Red Neuronal \n",
    "## Interpretar numeros escritos\n",
    "\n",
    "### Paso  2 Automatizando un poco la creacion de la red."
   ]
  },
  {
   "cell_type": "code",
   "execution_count": 3,
   "id": "5da40a13-2470-402b-95db-54e7dbbca884",
   "metadata": {},
   "outputs": [],
   "source": [
    "#librerias y mas\n",
    "import numpy as np\n",
    "import random"
   ]
  },
  {
   "cell_type": "code",
   "execution_count": 139,
   "id": "3d77de81-9773-4b19-84cd-788ad8678287",
   "metadata": {
    "tags": []
   },
   "outputs": [],
   "source": [
    "#definiendo la red por inputs\n",
    "NoEntradas= 1 #aqui el numero de entradas que se quieren\n",
    "\n",
    "entrada=[]\n",
    "for i in range(NoEntradas):\n",
    "    entrada.extend([0])#se inicializan con valor de 0 todas las entradas.\n",
    "#volviendolo vector\n",
    "en=np.array(entrada)\n"
   ]
  },
  {
   "cell_type": "code",
   "execution_count": 140,
   "id": "7f759031-f311-4a0b-bd9d-e4726979602b",
   "metadata": {},
   "outputs": [],
   "source": [
    "#definiendo la función de activación de las neuronas en la red\n",
    "def funact(x):\n",
    "    \n",
    "    sigma=1/(1+np.exp(-x))\n",
    "    return(sigma)"
   ]
  },
  {
   "cell_type": "code",
   "execution_count": 30,
   "id": "1e68247b-f7f0-4a5b-8d5a-67aaef2d9a9a",
   "metadata": {},
   "outputs": [
    {
     "name": "stdout",
     "output_type": "stream",
     "text": [
      "[0.5]\n"
     ]
    }
   ],
   "source": [
    "''' creando una capa \n",
    "NoNeur=1\n",
    "#creando los pesos\n",
    "w=[]\n",
    "for i in range(NoEntradas):\n",
    "    w1=[]\n",
    "    w.extend([w1])\n",
    "    for i in range(NoNeur): #numero de neuronas en esta capa \n",
    "        w1.extend([random.random()])\n",
    "Wjk=np.array(w)\n",
    "\n",
    "#vector de bias\n",
    "bias=[]\n",
    "for i in range(NoNeur):\n",
    "    bias.extend([0])\n",
    "b=np.array(bias)\n",
    "\n",
    "#argumento de la función de activación\n",
    "z=np.dot(en,Wjk)+b \n",
    "#vector de activaciones de la capa\n",
    "ac=funact(z) '''\n"
   ]
  },
  {
   "cell_type": "code",
   "execution_count": 176,
   "id": "4e4aa014-bafc-46cd-afcf-ef2c92f43319",
   "metadata": {},
   "outputs": [],
   "source": [
    "#definiendo una capa como un clase u objeto\n",
    "class Capa(object):\n",
    "    \n",
    "    def __init__(self,NoNe, CapAn): #None=Numero de Neuronas de la capa  y CapAn define cual es la capa anterior\n",
    "        self.NoNe=NoNe\n",
    "        self.CapAn=CapAn\n",
    "        \n",
    "        \n",
    "    def Ejecutar(self): #construye la red con los pesos correspondientes dependiendo de la anterior capa CapAn\n",
    "        \n",
    "        w=[]\n",
    "        for i in range(self.CapAn.size):\n",
    "            w1=[]\n",
    "            w.extend([w1])\n",
    "            for i in range(self.NoNe): \n",
    "                w1.extend([random.random()])\n",
    "        Wjk=np.array(w)\n",
    "\n",
    "        bias=[]\n",
    "        for i in range(self.NoNe):\n",
    "            bias.extend([0])\n",
    "        b=np.array(bias)\n",
    "\n",
    "        z=np.dot(self.CapAn,Wjk)+b \n",
    "        ac=funact(z) \n",
    "        return (ac)#salida final\n",
    "    \n",
    "\n",
    "        "
   ]
  },
  {
   "cell_type": "code",
   "execution_count": 177,
   "id": "882558c1-0062-42a1-a218-d74dd2b39225",
   "metadata": {},
   "outputs": [],
   "source": [
    "capa1=Capa(2,en)"
   ]
  },
  {
   "cell_type": "code",
   "execution_count": 178,
   "id": "abbe8aa3-4828-4d07-b89f-25f5cd48f7b5",
   "metadata": {},
   "outputs": [
    {
     "data": {
      "text/plain": [
       "array([0.5, 0.5])"
      ]
     },
     "execution_count": 178,
     "metadata": {},
     "output_type": "execute_result"
    }
   ],
   "source": [
    "capa1.Ejecutar()"
   ]
  },
  {
   "cell_type": "code",
   "execution_count": 156,
   "id": "1ec16829-3931-410f-87a8-8728d073da35",
   "metadata": {},
   "outputs": [
    {
     "data": {
      "text/plain": [
       "1"
      ]
     },
     "execution_count": 156,
     "metadata": {},
     "output_type": "execute_result"
    }
   ],
   "source": []
  },
  {
   "cell_type": "code",
   "execution_count": 155,
   "id": "5de355d8-d88d-45d7-9505-409b832a1647",
   "metadata": {},
   "outputs": [
    {
     "ename": "NameError",
     "evalue": "name 'CapAn' is not defined",
     "output_type": "error",
     "traceback": [
      "\u001b[1;31m---------------------------------------------------------------------------\u001b[0m",
      "\u001b[1;31mNameError\u001b[0m                                 Traceback (most recent call last)",
      "\u001b[1;32m~\\AppData\\Local\\Temp/ipykernel_13924/4236703287.py\u001b[0m in \u001b[0;36m<module>\u001b[1;34m\u001b[0m\n\u001b[1;32m----> 1\u001b[1;33m \u001b[0mcapa1\u001b[0m\u001b[1;33m.\u001b[0m\u001b[0mEjecutar\u001b[0m\u001b[1;33m(\u001b[0m\u001b[1;33m)\u001b[0m\u001b[1;33m\u001b[0m\u001b[1;33m\u001b[0m\u001b[0m\n\u001b[0m",
      "\u001b[1;32m~\\AppData\\Local\\Temp/ipykernel_13924/3601712756.py\u001b[0m in \u001b[0;36mEjecutar\u001b[1;34m(self)\u001b[0m\n\u001b[0;32m     10\u001b[0m \u001b[1;33m\u001b[0m\u001b[0m\n\u001b[0;32m     11\u001b[0m         \u001b[0mw\u001b[0m\u001b[1;33m=\u001b[0m\u001b[1;33m[\u001b[0m\u001b[1;33m]\u001b[0m\u001b[1;33m\u001b[0m\u001b[1;33m\u001b[0m\u001b[0m\n\u001b[1;32m---> 12\u001b[1;33m         \u001b[1;32mfor\u001b[0m \u001b[0mi\u001b[0m \u001b[1;32min\u001b[0m \u001b[0mrange\u001b[0m\u001b[1;33m(\u001b[0m\u001b[0mCapAn\u001b[0m\u001b[1;33m.\u001b[0m\u001b[0msize\u001b[0m\u001b[1;33m)\u001b[0m\u001b[1;33m:\u001b[0m\u001b[1;33m\u001b[0m\u001b[1;33m\u001b[0m\u001b[0m\n\u001b[0m\u001b[0;32m     13\u001b[0m             \u001b[0mw1\u001b[0m\u001b[1;33m=\u001b[0m\u001b[1;33m[\u001b[0m\u001b[1;33m]\u001b[0m\u001b[1;33m\u001b[0m\u001b[1;33m\u001b[0m\u001b[0m\n\u001b[0;32m     14\u001b[0m             \u001b[0mw\u001b[0m\u001b[1;33m.\u001b[0m\u001b[0mextend\u001b[0m\u001b[1;33m(\u001b[0m\u001b[1;33m[\u001b[0m\u001b[0mw1\u001b[0m\u001b[1;33m]\u001b[0m\u001b[1;33m)\u001b[0m\u001b[1;33m\u001b[0m\u001b[1;33m\u001b[0m\u001b[0m\n",
      "\u001b[1;31mNameError\u001b[0m: name 'CapAn' is not defined"
     ]
    }
   ],
   "source": []
  },
  {
   "cell_type": "code",
   "execution_count": null,
   "id": "819de38c-633c-4c90-8ad6-5d6f1be6f39c",
   "metadata": {},
   "outputs": [],
   "source": []
  }
 ],
 "metadata": {
  "kernelspec": {
   "display_name": "Python 3 (ipykernel)",
   "language": "python",
   "name": "python3"
  },
  "language_info": {
   "codemirror_mode": {
    "name": "ipython",
    "version": 3
   },
   "file_extension": ".py",
   "mimetype": "text/x-python",
   "name": "python",
   "nbconvert_exporter": "python",
   "pygments_lexer": "ipython3",
   "version": "3.9.7"
  }
 },
 "nbformat": 4,
 "nbformat_minor": 5
}
